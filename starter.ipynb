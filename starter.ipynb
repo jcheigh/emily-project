{
 "cells": [
  {
   "cell_type": "markdown",
   "metadata": {},
   "source": [
    "## Starter Notebook\n",
    "\n",
    "In this notebook, you'll learn the fundamentals of data science. There will be a few coding based exercises, as well as a brief intro to some topics in statistics. Then you'll analyze some data, learn the basics of ML, and then train your first ML model!"
   ]
  },
  {
   "cell_type": "markdown",
   "metadata": {},
   "source": [
    "**Import the below libraries**. These are essential to the python data science stack. NumPy is used to do math (specifically something called linear algebra) in python, and it's often *much* faster than regular python. Pandas is used for manipulating data (specifically Excel-like tables that are called *dataframes* in Pandas). Matplotlib and Seaborn are both data visualization libraries, which are used to create plots. \n",
    "\n",
    "If this doesn't work it means you might not have set up your conda venv correctly, or you're using the wrong one"
   ]
  },
  {
   "cell_type": "code",
   "execution_count": 1,
   "metadata": {},
   "outputs": [],
   "source": [
    "import numpy as np\n",
    "import pandas as pd\n",
    "import matplotlib.pyplot as plt\n",
    "import seaborn as sns"
   ]
  },
  {
   "cell_type": "markdown",
   "metadata": {},
   "source": [
    "**Python Basics:** here are some exercises. They should be fairly difficult."
   ]
  },
  {
   "cell_type": "code",
   "execution_count": 4,
   "metadata": {},
   "outputs": [],
   "source": [
    "X = 100 + 10 * np.random.randn(5, 4)"
   ]
  },
  {
   "cell_type": "markdown",
   "metadata": {},
   "source": [
    "Q: Explain the above code. By the time you do this you should know what the following words mean: matrix, normal distribution, mean, standard deviation, variance. <br>\n",
    "A: [put your answer here]"
   ]
  },
  {
   "cell_type": "code",
   "execution_count": 8,
   "metadata": {},
   "outputs": [
    {
     "data": {
      "text/plain": [
       "array([[ 94.51492447,  85.2518568 , 106.58450511, 102.68657708],\n",
       "       [ 94.91656488,  88.23383278,  94.14542907,  98.20565838],\n",
       "       [ 85.40565335, 109.55447753,  93.75445918,  97.78625344],\n",
       "       [107.5312475 , 102.98907332, 106.65355369,  89.0195506 ],\n",
       "       [ 92.67950558, 102.12888298, 107.27766783,  94.67211414]])"
      ]
     },
     "execution_count": 8,
     "metadata": {},
     "output_type": "execute_result"
    }
   ],
   "source": [
    "X"
   ]
  },
  {
   "cell_type": "markdown",
   "metadata": {},
   "source": [
    "Q1: write a function that returns the trace of X <br>\n",
    "Q2: write a function that returns the maximum value of the row of X with the highest mean value <br>\n",
    "Q3: write a function that uses nested for loops to sum the values of X. Also note you could have just done sum(sum(X)) <br>\n",
    "Q4: call X + 10 and 10 * X and figure out what both of them did <br>"
   ]
  },
  {
   "cell_type": "code",
   "execution_count": 19,
   "metadata": {},
   "outputs": [],
   "source": [
    "A = np.random.randint(0, 3, size=(3,2))\n",
    "B = np.random.randint(0, 3, size=(2,3))"
   ]
  },
  {
   "cell_type": "markdown",
   "metadata": {},
   "source": [
    "Q1: Use matrix multiplication to work out what AB should be (do this on paper) <br>\n",
    "Q2: Try A*B and explain why it errors (Hint: figure out what A * A is and why it isn't matrix multiplication) <br>\n",
    "Q3: Verify your answer to Q1 by using numpy for matrix multiplication (look it up)"
   ]
  },
  {
   "cell_type": "markdown",
   "metadata": {},
   "source": [
    "You are a teacher, and you just administered a 20 question multiple choice test. Below is the answer string, and there's also a .txt file called test_answers.txt. Fill in the below functions"
   ]
  },
  {
   "cell_type": "code",
   "execution_count": 22,
   "metadata": {},
   "outputs": [
    {
     "data": {
      "text/plain": [
       "'\\nPlot the distribution of numerical grades using a histogram \\nPlot the distribution of letter grades using a barplot\\nHow many people got As, Bs, Cs, ... \\nWho did the worst, who did the best\\n'"
      ]
     },
     "execution_count": 22,
     "metadata": {},
     "output_type": "execute_result"
    }
   ],
   "source": [
    "answers = 'CACDBCACAAAADABBABCC'\n",
    "\n",
    "def get_student_answers():\n",
    "    \"\"\"\n",
    "    Reads in test_answers.txt and returns a dictionary\n",
    "    mapping student names to their answers on the test\n",
    "    \"\"\"\n",
    "    pass\n",
    "\n",
    "def get_student_grades(answers=answers):\n",
    "    \"\"\"\n",
    "    Use the above function to create a dictionary mapping\n",
    "    student names to their grade as a percent (so if they \n",
    "    got 17 right return round(17/20 * 100, 2)). Now do it \n",
    "    in one line using a dictionary comprehension\n",
    "    \"\"\"\n",
    "    pass \n",
    "\n",
    "def get_letter_grades():\n",
    "    \"\"\"\n",
    "    Use the above function to create a dictionary mapping\n",
    "    student names to their letter grade (without +/-);\n",
    "\n",
    "    note: you can choose to round up 89.5 to 90 or not\n",
    "    \"\"\"\n",
    "    pass"
   ]
  },
  {
   "cell_type": "markdown",
   "metadata": {},
   "source": [
    "Q1: Plot the distribution of numerical grades using a histogram <br>\n",
    "Q2: Plot the distribution of letter grades using a barplot <br>\n",
    "Q3: How many people got As, Bs, Cs, ...  <br>\n",
    "Q4: Who did the worst, who did the best\n"
   ]
  }
 ],
 "metadata": {
  "kernelspec": {
   "display_name": "Python 3.9.12 ('base')",
   "language": "python",
   "name": "python3"
  },
  "language_info": {
   "codemirror_mode": {
    "name": "ipython",
    "version": 3
   },
   "file_extension": ".py",
   "mimetype": "text/x-python",
   "name": "python",
   "nbconvert_exporter": "python",
   "pygments_lexer": "ipython3",
   "version": "3.9.12"
  },
  "orig_nbformat": 4,
  "vscode": {
   "interpreter": {
    "hash": "40d3a090f54c6569ab1632332b64b2c03c39dcf918b08424e98f38b5ae0af88f"
   }
  }
 },
 "nbformat": 4,
 "nbformat_minor": 2
}
